{
 "cells": [
  {
   "cell_type": "markdown",
   "id": "9da9b22c",
   "metadata": {},
   "source": [
    "# Creating Synthetic Experts with Generative AI\n",
    "> ## Prediction with Fine-Tuned Model  \n",
    "*Batch Edition* for larger Datasets\n",
    "  \n",
    "Version 0.5 \n",
    "Date: August 16, 2023    \n",
    "Author: Daniel M. Ringel    \n",
    "Contact: dmr@unc.edu\n",
    "\n",
    "*Daniel M. Ringel, Creating Synthetic Experts with Generative Artificial Intelligence (July 15, 2023).  \n",
    "Available at SSRN: https://papers.ssrn.com/abstract_id=4542949*"
   ]
  },
  {
   "cell_type": "markdown",
   "id": "8f826dd3",
   "metadata": {},
   "source": [
    "#### Requirements\n",
    "- PyTorch\n",
    "- BeautifulSoup\n",
    "- Huggingfaces transformers\n",
    "- Warnings and regular expressions (re)\n",
    "\n",
    "##### Apple M1/M2 GPU MPS Requirements\n",
    "> See Python Notebook: ***Setup-MacBook-M2-Pytorch-TensorFlow-Apr2023.ipynb***  \n",
    "http://www.synthetic-experts.ai/Setup-MacBook-M2-Pytorch-TensorFlow-Apr2023.ipynb\n",
    "\n",
    "- Mac computer with Apple silicon GPU\n",
    "- macOS 12.3 or later\n",
    "- Python 3.7 or later\n",
    "- Xcode command-line tools: xcode-select --install\n"
   ]
  },
  {
   "cell_type": "code",
   "execution_count": 1,
   "id": "917dcbd6",
   "metadata": {},
   "outputs": [],
   "source": [
    "# Required Libraries:\n",
    "# !pip3 install beautifulsoup4\n",
    "# !pip3 install torch torchvision torchaudio\n",
    "# !pip3 install transformers"
   ]
  },
  {
   "cell_type": "code",
   "execution_count": 2,
   "id": "99cd227f",
   "metadata": {},
   "outputs": [],
   "source": [
    "# Imports\n",
    "import os\n",
    "import pandas as pd\n",
    "import numpy as np\n",
    "import torch\n",
    "import warnings\n",
    "import re\n",
    "from datetime import datetime\n",
    "from transformers import AutoModelForSequenceClassification, AutoTokenizer, PreTrainedModel\n",
    "import UseSynExp as synx"
   ]
  },
  {
   "cell_type": "code",
   "execution_count": 9,
   "id": "79707c0b",
   "metadata": {},
   "outputs": [
    {
     "name": "stdout",
     "output_type": "stream",
     "text": [
      "Directory \"Data\" already exists:\n",
      "Make sure that it contains the \"IN_file\" (\"Example_Tweets.pkl\")\n"
     ]
    }
   ],
   "source": [
    "# Paths with demo data \"Example_Tweets.pkl\"\n",
    "IN_path = \"Data\"\n",
    "IN_file = \"Example_Tweets\"\n",
    "OUT_path = IN_path\n",
    "OUT_file = IN_file\n",
    "\n",
    "if not os.path.exists(IN_path):\n",
    "    os.makedirs(IN_path)\n",
    "    print(f'Directory \"{IN_path}\" created ... \\nWARNING: You need to copy the \"IN_file\" (\"Example_Tweets.pkl\") into this directory.')\n",
    "else:\n",
    "    print(f'Directory \"{IN_path}\" already exists:\\nMake sure that it contains the \"IN_file\" (\"Example_Tweets.pkl\")')"
   ]
  },
  {
   "cell_type": "code",
   "execution_count": 10,
   "id": "7af7b70a",
   "metadata": {},
   "outputs": [],
   "source": [
    "# OPTIONAL: Load raw Twitter data and save what is needed to pickle (or excel)\n",
    "# tweets = pd.read_csv(f\"{IN_path}/Abercrombie.csv\",low_memory=False)\n",
    "# tweets = tweets[[\"id\",'text', 'created_at']]\n",
    "# tweets = tweets.drop_duplicates(subset=[\"text\"])\n",
    "# tweets.to_pickle(f\"{IN_path}/{IN_file}.pkl\")  # tweets.to_excel(f\"{IN_path}/{IN_file}.xlsx\")"
   ]
  },
  {
   "cell_type": "code",
   "execution_count": 12,
   "id": "43d079a6",
   "metadata": {},
   "outputs": [],
   "source": [
    "# Define HuggingFace Model\n",
    "MODEL = \"dmr76/mmx_classifier_microblog_ENv02\"\n",
    "\n",
    "# Set Controls\n",
    "t = 0.5    # Threshold for positive labels\n",
    "block_size = 1000  # Set your batch size"
   ]
  },
  {
   "cell_type": "code",
   "execution_count": 13,
   "id": "c24c7189",
   "metadata": {},
   "outputs": [
    {
     "name": "stdout",
     "output_type": "stream",
     "text": [
      "PyTorch version: 2.0.0\n",
      "MPS (Apple Metal Performance Shader) is available\n",
      "Using device: mps\n"
     ]
    }
   ],
   "source": [
    "# Set Device\n",
    "print(f\"PyTorch version: {torch.__version__}\")\n",
    "if torch.backends.mps.is_built() and torch.backends.mps.is_available():\n",
    "    device = \"mps\"\n",
    "    print(\"MPS (Apple Metal Performance Shader) is available\")\n",
    "elif torch.cuda.is_available():\n",
    "    device = \"cuda\"\n",
    "    print(\"CUDA (GPU) is available\")\n",
    "else:\n",
    "    device = \"cpu\"\n",
    "    print(\"Neiter MPS nor GPU available\")\n",
    "print(f\"Using device: {device}\")"
   ]
  },
  {
   "cell_type": "code",
   "execution_count": 14,
   "id": "2c40bdf7",
   "metadata": {},
   "outputs": [],
   "source": [
    "# Data - Assumes pickle file with columns id and text - can easily change to other format\n",
    "df = pd.read_pickle(f\"{IN_path}/{IN_file}.pkl\")  # df = pd.read_excel(f\"{IN_path}{IN_file}.xlsx\")\n",
    "df = df[[\"id\", \"text\"]]  # Keep only ID and Text columns\n",
    "\n",
    "# only using first 4000 here (comment out for all)\n",
    "df = df.head(4000) "
   ]
  },
  {
   "cell_type": "code",
   "execution_count": 15,
   "id": "867ec5fe",
   "metadata": {},
   "outputs": [],
   "source": [
    "# Load Model and Tokenizer\n",
    "model = AutoModelForSequenceClassification.from_pretrained(MODEL)\n",
    "tokenizer = AutoTokenizer.from_pretrained(MODEL)\n",
    "model.to(device)\n",
    "id2label = model.config.id2label # Get id2label from the model's config"
   ]
  },
  {
   "cell_type": "code",
   "execution_count": 16,
   "id": "c531a1aa",
   "metadata": {},
   "outputs": [
    {
     "name": "stdout",
     "output_type": "stream",
     "text": [
      "19:07:19 Starting block labeling:\n",
      "\n",
      "19:07:30 --> Finished labeling 1000 Tweets\n",
      "19:07:39 --> Finished labeling 2000 Tweets\n",
      "19:07:49 --> Finished labeling 3000 Tweets\n",
      "19:07:58 --> Finished labeling 4000 Tweets\n",
      "CPU times: user 21.9 s, sys: 5.53 s, total: 27.4 s\n",
      "Wall time: 38.5 s\n"
     ]
    }
   ],
   "source": [
    "%%time\n",
    "# Preprocess and Predict Tweets in Batches\n",
    "df = synx.block_process(df, block_size, model, tokenizer, device, t, id2label)"
   ]
  },
  {
   "cell_type": "code",
   "execution_count": 17,
   "id": "3cc529f5",
   "metadata": {},
   "outputs": [
    {
     "data": {
      "text/html": [
       "<div>\n",
       "<style scoped>\n",
       "    .dataframe tbody tr th:only-of-type {\n",
       "        vertical-align: middle;\n",
       "    }\n",
       "\n",
       "    .dataframe tbody tr th {\n",
       "        vertical-align: top;\n",
       "    }\n",
       "\n",
       "    .dataframe thead th {\n",
       "        text-align: right;\n",
       "    }\n",
       "</style>\n",
       "<table border=\"1\" class=\"dataframe\">\n",
       "  <thead>\n",
       "    <tr style=\"text-align: right;\">\n",
       "      <th></th>\n",
       "      <th>text</th>\n",
       "      <th>Labels</th>\n",
       "    </tr>\n",
       "  </thead>\n",
       "  <tbody>\n",
       "    <tr>\n",
       "      <th>0</th>\n",
       "      <td>Glasses-&gt; @WarbyParker Blazer -&gt; @Abercrombie Poplin-&gt; @Abercrombie T-Shirt-&gt; @Abercrombie Jeans-&gt; @Abercrombie Socks-&gt; @Abercrombie Belt-&gt; Don't know! Chukka Boots-&gt; @OldNavy URL</td>\n",
       "      <td>[Product]</td>\n",
       "    </tr>\n",
       "    <tr>\n",
       "      <th>1</th>\n",
       "      <td>Why yes I did wake up at 3am because of my cats and decide to buy this @Abercrombie jacket that I wanted that was finally back in my size</td>\n",
       "      <td>[Product]</td>\n",
       "    </tr>\n",
       "    <tr>\n",
       "      <th>2</th>\n",
       "      <td>Found my perfect pair of @Abercrombie jeans but they don’t come in black. Bought another pair and I’m going to attempt an at home dye job 😂🤞🏽</td>\n",
       "      <td>[Product]</td>\n",
       "    </tr>\n",
       "    <tr>\n",
       "      <th>3</th>\n",
       "      <td>I have been hacked 2x in 2 months. @Chase this is seriously unacceptable and I need those funds returned. I never use @PayPal nor do I shop @Abercrombie in Stockton, CA- wtf is going on with this ...</td>\n",
       "      <td>[Product, Place]</td>\n",
       "    </tr>\n",
       "    <tr>\n",
       "      <th>4</th>\n",
       "      <td>To celebrate this New Year, @Abercrombie is DOUBLING all donations up to $25,000! 🎉 Your donation will help us answer 2X the calls, texts, and chats that come in, allow us to train 2X more volunte...</td>\n",
       "      <td>[Promotion]</td>\n",
       "    </tr>\n",
       "  </tbody>\n",
       "</table>\n",
       "</div>"
      ],
      "text/plain": [
       "                                                                                                                                                                                                      text   \n",
       "0                      Glasses-> @WarbyParker Blazer -> @Abercrombie Poplin-> @Abercrombie T-Shirt-> @Abercrombie Jeans-> @Abercrombie Socks-> @Abercrombie Belt-> Don't know! Chukka Boots-> @OldNavy URL  \\\n",
       "1                                                                Why yes I did wake up at 3am because of my cats and decide to buy this @Abercrombie jacket that I wanted that was finally back in my size   \n",
       "2                                                            Found my perfect pair of @Abercrombie jeans but they don’t come in black. Bought another pair and I’m going to attempt an at home dye job 😂🤞🏽   \n",
       "3  I have been hacked 2x in 2 months. @Chase this is seriously unacceptable and I need those funds returned. I never use @PayPal nor do I shop @Abercrombie in Stockton, CA- wtf is going on with this ...   \n",
       "4  To celebrate this New Year, @Abercrombie is DOUBLING all donations up to $25,000! 🎉 Your donation will help us answer 2X the calls, texts, and chats that come in, allow us to train 2X more volunte...   \n",
       "\n",
       "             Labels  \n",
       "0         [Product]  \n",
       "1         [Product]  \n",
       "2         [Product]  \n",
       "3  [Product, Place]  \n",
       "4       [Promotion]  "
      ]
     },
     "execution_count": 17,
     "metadata": {},
     "output_type": "execute_result"
    }
   ],
   "source": [
    "# Take a look at first 5\n",
    "pd.set_option(\"display.max_colwidth\", 200)\n",
    "df[[\"text\", \"Labels\"]].head(5)"
   ]
  },
  {
   "cell_type": "code",
   "execution_count": 18,
   "id": "a59c490c",
   "metadata": {},
   "outputs": [
    {
     "data": {
      "text/html": [
       "<div>\n",
       "<style scoped>\n",
       "    .dataframe tbody tr th:only-of-type {\n",
       "        vertical-align: middle;\n",
       "    }\n",
       "\n",
       "    .dataframe tbody tr th {\n",
       "        vertical-align: top;\n",
       "    }\n",
       "\n",
       "    .dataframe thead th {\n",
       "        text-align: right;\n",
       "    }\n",
       "</style>\n",
       "<table border=\"1\" class=\"dataframe\">\n",
       "  <thead>\n",
       "    <tr style=\"text-align: right;\">\n",
       "      <th></th>\n",
       "      <th>text</th>\n",
       "      <th>Labels</th>\n",
       "    </tr>\n",
       "  </thead>\n",
       "  <tbody>\n",
       "    <tr>\n",
       "      <th>9</th>\n",
       "      <td>This @Abercrombie sweater is on major sale right now, with all sizes still available (which never happens). Shop it here: URL URL</td>\n",
       "      <td>[Product, Price]</td>\n",
       "    </tr>\n",
       "    <tr>\n",
       "      <th>11</th>\n",
       "      <td>Remember the mini leather puffer S has been loving from @Abercrombie ? They have another super similar one on sale that's faux fur and SO cute (and cozy.) Link: URL URL</td>\n",
       "      <td>[Product, Price]</td>\n",
       "    </tr>\n",
       "    <tr>\n",
       "      <th>17</th>\n",
       "      <td>Outerwear is IN at @Abercrombie! 🧥 Warm and woolly, fun and fuzzy coats and jackets are waiting for you. Stop in and shop the sale! // #TownSquareLV URL</td>\n",
       "      <td>[Product, Place, Price, Promotion]</td>\n",
       "    </tr>\n",
       "    <tr>\n",
       "      <th>29</th>\n",
       "      <td>Outfit: $175 Xmas Dinner: $500 Taking my bra off halfway through the meal: Fuckin PRICELESS 👌🏽 Dress- @Abercrombie Jacket &amp; Shoes- @Forever21 #holidays2020 #Christmas URL</td>\n",
       "      <td>[Product, Price]</td>\n",
       "    </tr>\n",
       "    <tr>\n",
       "      <th>30</th>\n",
       "      <td>/1/ Ugh drove 20 minutes out of my way to return a sweater from @Abercrombie bc I would’ve paid for shipping. Waited another 20 min in line to get in store and 10 mins for the register.</td>\n",
       "      <td>[Product, Place, Price]</td>\n",
       "    </tr>\n",
       "  </tbody>\n",
       "</table>\n",
       "</div>"
      ],
      "text/plain": [
       "                                                                                                                                                                                         text   \n",
       "9                                                           This @Abercrombie sweater is on major sale right now, with all sizes still available (which never happens). Shop it here: URL URL  \\\n",
       "11                   Remember the mini leather puffer S has been loving from @Abercrombie ? They have another super similar one on sale that's faux fur and SO cute (and cozy.) Link: URL URL   \n",
       "17                                   Outerwear is IN at @Abercrombie! 🧥 Warm and woolly, fun and fuzzy coats and jackets are waiting for you. Stop in and shop the sale! // #TownSquareLV URL   \n",
       "29                 Outfit: $175 Xmas Dinner: $500 Taking my bra off halfway through the meal: Fuckin PRICELESS 👌🏽 Dress- @Abercrombie Jacket & Shoes- @Forever21 #holidays2020 #Christmas URL   \n",
       "30  /1/ Ugh drove 20 minutes out of my way to return a sweater from @Abercrombie bc I would’ve paid for shipping. Waited another 20 min in line to get in store and 10 mins for the register.   \n",
       "\n",
       "                                Labels  \n",
       "9                     [Product, Price]  \n",
       "11                    [Product, Price]  \n",
       "17  [Product, Place, Price, Promotion]  \n",
       "29                    [Product, Price]  \n",
       "30             [Product, Place, Price]  "
      ]
     },
     "execution_count": 18,
     "metadata": {},
     "output_type": "execute_result"
    }
   ],
   "source": [
    "# Take a look at first 5 that are about Price\n",
    "df[df.Price==1][[\"text\", \"Labels\"]].head(5)"
   ]
  },
  {
   "cell_type": "code",
   "execution_count": 19,
   "id": "6df8ed13",
   "metadata": {},
   "outputs": [],
   "source": [
    "# Save labeled Tweets\n",
    "df.to_pickle(f\"{OUT_path}/{OUT_file}_labeled.pkl\") # df.to_excel(f\"{OUT_path}/{OUT_file}_labeled.xlsx\")"
   ]
  }
 ],
 "metadata": {
  "kernelspec": {
   "display_name": "Python 3 (ipykernel)",
   "language": "python",
   "name": "python3"
  },
  "language_info": {
   "codemirror_mode": {
    "name": "ipython",
    "version": 3
   },
   "file_extension": ".py",
   "mimetype": "text/x-python",
   "name": "python",
   "nbconvert_exporter": "python",
   "pygments_lexer": "ipython3",
   "version": "3.8.16"
  }
 },
 "nbformat": 4,
 "nbformat_minor": 5
}
