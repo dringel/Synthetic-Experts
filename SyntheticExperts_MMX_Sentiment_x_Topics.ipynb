{
 "cells": [
  {
   "cell_type": "markdown",
   "id": "9da9b22c",
   "metadata": {},
   "source": [
    "# Creating Synthetic Experts with Generative AI\n",
    "> ## Empirical Application: MMX, Sentiment, and Topics \n",
    "  Version BETA 0.1  \n",
    "  Date: September 6, 2023    \n",
    "  Author: Daniel M. Ringel    \n",
    "  Contact: dmr@unc.edu\n",
    "\n",
    "*Daniel M. Ringel, Creating Synthetic Experts with Generative Artificial Intelligence (July 15, 2023).  \n",
    "Available at SSRN: https://papers.ssrn.com/abstract_id=4542949.*"
   ]
  },
  {
   "cell_type": "markdown",
   "id": "8f826dd3",
   "metadata": {},
   "source": [
    "# *Synthetic Twins*\n",
    "This notebook is published with demo data. These data are based on real Tweets but were rewritten by an AI. I call these data ***Synthetic Twins***.  \n",
    "  \n",
    "  \n",
    "***Synthetic Twins*** correspond semantically in idea and meaning to original texts. However, wording, people, places, firms, brands, and products were changed by an AI. As such, ***Synthetic Twins*** mitigate, to some extent, possible privacy, and copyright concerns. If you'd like to learn more about ***Synthetic Twins***, another generative AI project by Daniel Ringel, then please get in touch! dmr@unc.edu  \n",
    "\n",
    "You can ***create your own Synthetic Twins of texts*** with this Python notebook:   `SyntheticExperts_Create_Synthetic_Twins_of_Texts.ipynb`,   \n",
    "available as BETA version (still being tested) on the **Synthetic Experts [GitHub](https://github.com/dringel/Synthetic-Experts)** respository.<br><br><br>"
   ]
  },
  {
   "cell_type": "markdown",
   "id": "6dce4d2f",
   "metadata": {},
   "source": [
    "# 1. Setup\n",
    "This notebook imports several Python packages. Make sure you have all of them installed in your Python environment prior to running this notebook. ***I strongly recommend that you create a separate Python environment to run this notebook in.***\n",
    "\n",
    "To accelerate text processing, I recommend that you leverage a GPU. NVIDIA GPUs are usually relatively easy to setup and configure. The setup/configuration of Apple Silicone GPUs (integrated on Apple's M1/M2 chips) was a little more involved at the time of writing this notebook; particularly for Tensorflow (which this notebook does not require - it operates on PyTorch).\n",
    "\n",
    "##### Apple M1/M2 GPU MPS Requirements (Optional)\n",
    "> See Python Notebook: [Setup-MacBook-M2-Pytorch-TensorFlow-Apr2023.ipynb](https://github.com/dringel/Synthetic-Experts)  \n",
    "\n",
    "- Mac computer with Apple silicon GPU\n",
    "- macOS 12.3 or later\n",
    "- Python 3.7 or later\n",
    "- Xcode command-line tools: xcode-select --install\n",
    "\n",
    "##### If you have no GPU available, the code falls back to your CPU"
   ]
  },
  {
   "cell_type": "code",
   "execution_count": 1,
   "id": "917dcbd6",
   "metadata": {},
   "outputs": [],
   "source": [
    "# !pip3 install --U numba\n",
    "# !pip3 install torch torchvision torchaudio\n",
    "# !pip3 install transformers\n",
    "# !pip3 install --U plotly\n",
    "# !pip3 install beautifulsoup4\n",
    "# !pip3 install vaderSentiment\n",
    "# !pip3 install -U sentence-transformers\n",
    "# !pip3 install -U scikit-learn\n",
    "# !pip3 install umap-learn\n",
    "# !pip3 install hdbscan\n",
    "# !pip3 install bertopic"
   ]
  },
  {
   "cell_type": "markdown",
   "id": "be0a3cda",
   "metadata": {},
   "source": [
    "# 2. Imports"
   ]
  },
  {
   "cell_type": "code",
   "execution_count": 2,
   "id": "99cd227f",
   "metadata": {},
   "outputs": [],
   "source": [
    "import sys, os, warnings, pandas as pd, numpy as np, re\n",
    "from datetime import datetime\n",
    "import torch\n",
    "from transformers import AutoModelForSequenceClassification, AutoTokenizer, PreTrainedModel\n",
    "from bs4 import BeautifulSoup\n",
    "from vaderSentiment.vaderSentiment import SentimentIntensityAnalyzer\n",
    "from sentence_transformers import SentenceTransformer\n",
    "from umap import UMAP\n",
    "from hdbscan import HDBSCAN\n",
    "from sklearn.feature_extraction.text import CountVectorizer\n",
    "from bertopic import BERTopic\n",
    "from bertopic.vectorizers import ClassTfidfTransformer\n",
    "from bertopic.representation import MaximalMarginalRelevance\n",
    "import plotly.io as pio\n",
    "import UseSynExp as synx\n",
    "\n",
    "pio.renderers.default = 'iframe'\n",
    "pd.set_option(\"display.max_colwidth\", 200)"
   ]
  },
  {
   "cell_type": "markdown",
   "id": "e7c08ef8",
   "metadata": {},
   "source": [
    "# 3. Configure"
   ]
  },
  {
   "cell_type": "code",
   "execution_count": 3,
   "id": "281a9b39",
   "metadata": {},
   "outputs": [],
   "source": [
    "# Paths\n",
    "IN_path = \"Data\"                                 # location of raw text files   \n",
    "IN_file = \"Demo_FashionBrand_SyntheticTwins\"     # assumes pickle format with .pkl extension\n",
    "OUT_path = \"MMX_Sentiment\"                       # save results here\n",
    "OUT_file = \"MMXSent_FashionBrand\"                # name of file to save results to\n",
    "\n",
    "# Setup\n",
    "device = \"mps\" if torch.backends.mps.is_built() and torch.backends.mps.is_available() else \"cuda\" if torch.cuda.is_available() else \"cpu\"\n",
    "synexpert = \"dmr76/mmx_classifier_microblog_ENv02\" # downloads MMX classifier (Ringel, 2023) from Hugging Faces Model Hub\n",
    "                                                   # --> alternatively, enter path to saved synthetic expert (with model folder name)\n",
    "# Controls\n",
    "start_date = '2020-01-01'   # Use texts from the beginning of 2020\n",
    "end_date =   '2020-12-31'   # till the end of 2020\n",
    "\n",
    "seed = 42          # for sampling\n",
    "N_max = 4050       # max sample size in time frame\n",
    "t = 0.5            # threshold for positive labels (synthetic expert returns score 0 to 1)\n",
    "block_size = 1000  # break large datasets into blocks for processing to reduce memory pressure"
   ]
  },
  {
   "cell_type": "code",
   "execution_count": null,
   "id": "232f7807",
   "metadata": {},
   "outputs": [],
   "source": [
    "if device == \"cpu\": print(\"No GPU found, using >>> CPU <<<, which will be slower.\") \n",
    "else: print(f\"GPU available! Using >>> {device} <<< for inference\")"
   ]
  },
  {
   "cell_type": "markdown",
   "id": "51af1361",
   "metadata": {},
   "source": [
    "# 4. Load Data"
   ]
  },
  {
   "cell_type": "code",
   "execution_count": 4,
   "id": "c52f3f59",
   "metadata": {},
   "outputs": [
    {
     "name": "stdout",
     "output_type": "stream",
     "text": [
      "Processing Demo_FashionBrand_SyntheticTwins...\n",
      "Loaded 1504 Tweets\n"
     ]
    }
   ],
   "source": [
    "# Load data\n",
    "print(f\"Processing {IN_file}...\")\n",
    "brand = IN_file\n",
    "df = pd.read_pickle(f\"{IN_path}/{IN_file}.pkl\")[['created_at','text']]             \n",
    "df = df.drop_duplicates(subset=[\"text\"])\n",
    "\n",
    "# Filter desired time frame\n",
    "df['created_at'] = pd.to_datetime(df['created_at'])\n",
    "mask = (df['created_at'] >= start_date) & (df['created_at'] <= end_date)\n",
    "df = df[mask]\n",
    "\n",
    "# Sample up to N texts\n",
    "df = df.sample(n=min(len(df), N_max), replace=False, random_state=seed)\n",
    "print(f\"Loaded {len(df)} Tweets\")"
   ]
  },
  {
   "cell_type": "markdown",
   "id": "6474d7fb",
   "metadata": {},
   "source": [
    "# 5. Identify MMX Variables and Sentiment by MMX\n",
    "\n",
    "*using MMX Classifier (Ringel 2023) and VADER sentiment classifier (Hutto and Gilbert 2014)*\n",
    "\n",
    "> Ringel, Daniel, Creating Synthetic Experts with Generative AI (July 15, 2023).  \n",
    "*Available at SSRN: https://ssrn.com/abstract=4542949.*\n",
    "\n",
    "> Hutto, C.J. & Gilbert, E.E. (2014). VADER: A Parsimonious Rule-based Model for Sentiment Analysis of Social Media Text. Eighth International Conference on Weblogs and Social Media (ICWSM-14). Ann Arbor, MI, June 2014\n",
    "\n",
    "*I use VADER for convenience and speed in this notebook, and to avoid recommending a specific contemporary sentiment classifier. There are many more sophisticated sentiment classifiers available on the Hugging Faces Model Hub which you can easily incorporate into this notebook. Nonetheless, VADER remains a popular classifier that established itself across literature streams. As such, it is an excellent starting point (IMHO).*"
   ]
  },
  {
   "cell_type": "code",
   "execution_count": 5,
   "id": "867ec5fe",
   "metadata": {},
   "outputs": [],
   "source": [
    "# Load model, tokenizer, and labels\n",
    "model = AutoModelForSequenceClassification.from_pretrained(synexpert).to(device)\n",
    "tokenizer = AutoTokenizer.from_pretrained(synexpert)\n",
    "id2label = model.config.id2label"
   ]
  },
  {
   "cell_type": "code",
   "execution_count": 6,
   "id": "648f9309",
   "metadata": {},
   "outputs": [
    {
     "name": "stdout",
     "output_type": "stream",
     "text": [
      "13:17:22 Starting block labeling:\n",
      "\n",
      "13:17:32 --> Finished labeling up to 1000 Texts\n",
      "13:17:37 --> Finished labeling up to 2000 Texts\n",
      "\n",
      "13:17:38 --> Finished sentiment analysis for 1504 Texts\n"
     ]
    },
    {
     "data": {
      "text/html": [
       "<div>\n",
       "<style scoped>\n",
       "    .dataframe tbody tr th:only-of-type {\n",
       "        vertical-align: middle;\n",
       "    }\n",
       "\n",
       "    .dataframe tbody tr th {\n",
       "        vertical-align: top;\n",
       "    }\n",
       "\n",
       "    .dataframe thead th {\n",
       "        text-align: right;\n",
       "    }\n",
       "</style>\n",
       "<table border=\"1\" class=\"dataframe\">\n",
       "  <thead>\n",
       "    <tr style=\"text-align: right;\">\n",
       "      <th></th>\n",
       "      <th>created_at</th>\n",
       "      <th>text</th>\n",
       "      <th>Prob_Product</th>\n",
       "      <th>Prob_Place</th>\n",
       "      <th>Prob_Price</th>\n",
       "      <th>Prob_Promotion</th>\n",
       "      <th>Product</th>\n",
       "      <th>Place</th>\n",
       "      <th>Price</th>\n",
       "      <th>Promotion</th>\n",
       "      <th>Labels</th>\n",
       "      <th>Sent_All</th>\n",
       "      <th>Sent_Product</th>\n",
       "      <th>Sent_Place</th>\n",
       "      <th>Sent_Price</th>\n",
       "      <th>Sent_Promotion</th>\n",
       "      <th>Sent_Max</th>\n",
       "    </tr>\n",
       "  </thead>\n",
       "  <tbody>\n",
       "    <tr>\n",
       "      <th>51</th>\n",
       "      <td>2020-12-20</td>\n",
       "      <td>Just an idea... but the @SynFcl Fierce cologne is just unbeatable. Do you think it'd be absurd if I purchased it and started wearing it again? URL</td>\n",
       "      <td>0.995051</td>\n",
       "      <td>0.009062</td>\n",
       "      <td>0.007617</td>\n",
       "      <td>0.017444</td>\n",
       "      <td>1</td>\n",
       "      <td>0</td>\n",
       "      <td>0</td>\n",
       "      <td>0</td>\n",
       "      <td>[Product]</td>\n",
       "      <td>0.0000</td>\n",
       "      <td>0.0000</td>\n",
       "      <td>NaN</td>\n",
       "      <td>NaN</td>\n",
       "      <td>NaN</td>\n",
       "      <td>Product</td>\n",
       "    </tr>\n",
       "    <tr>\n",
       "      <th>976</th>\n",
       "      <td>2020-04-16</td>\n",
       "      <td>One of the most favored fleece options from @SynFcl (and in this color, too!). Formerly priced $68, now only $19! Limited sizes, but if they have yours - I own 3 of these and ADORE them ! URL URL</td>\n",
       "      <td>0.937968</td>\n",
       "      <td>0.091446</td>\n",
       "      <td>0.989300</td>\n",
       "      <td>0.055162</td>\n",
       "      <td>1</td>\n",
       "      <td>0</td>\n",
       "      <td>1</td>\n",
       "      <td>0</td>\n",
       "      <td>[Product, Price]</td>\n",
       "      <td>0.8581</td>\n",
       "      <td>0.8581</td>\n",
       "      <td>NaN</td>\n",
       "      <td>0.8581</td>\n",
       "      <td>NaN</td>\n",
       "      <td>Price</td>\n",
       "    </tr>\n",
       "    <tr>\n",
       "      <th>184</th>\n",
       "      <td>2020-11-15</td>\n",
       "      <td>Deplorable customer support from @SynFcl, denying reimbursement despite acknowledgment email confirming returned merchandise.</td>\n",
       "      <td>0.719933</td>\n",
       "      <td>0.042571</td>\n",
       "      <td>0.788653</td>\n",
       "      <td>0.009624</td>\n",
       "      <td>1</td>\n",
       "      <td>0</td>\n",
       "      <td>1</td>\n",
       "      <td>0</td>\n",
       "      <td>[Product, Price]</td>\n",
       "      <td>0.0772</td>\n",
       "      <td>0.0772</td>\n",
       "      <td>NaN</td>\n",
       "      <td>0.0772</td>\n",
       "      <td>NaN</td>\n",
       "      <td>Price</td>\n",
       "    </tr>\n",
       "  </tbody>\n",
       "</table>\n",
       "</div>"
      ],
      "text/plain": [
       "    created_at   \n",
       "51  2020-12-20  \\\n",
       "976 2020-04-16   \n",
       "184 2020-11-15   \n",
       "\n",
       "                                                                                                                                                                                                    text   \n",
       "51                                                    Just an idea... but the @SynFcl Fierce cologne is just unbeatable. Do you think it'd be absurd if I purchased it and started wearing it again? URL  \\\n",
       "976  One of the most favored fleece options from @SynFcl (and in this color, too!). Formerly priced $68, now only $19! Limited sizes, but if they have yours - I own 3 of these and ADORE them ! URL URL   \n",
       "184                                                                        Deplorable customer support from @SynFcl, denying reimbursement despite acknowledgment email confirming returned merchandise.   \n",
       "\n",
       "     Prob_Product  Prob_Place  Prob_Price  Prob_Promotion  Product  Place   \n",
       "51       0.995051    0.009062    0.007617        0.017444        1      0  \\\n",
       "976      0.937968    0.091446    0.989300        0.055162        1      0   \n",
       "184      0.719933    0.042571    0.788653        0.009624        1      0   \n",
       "\n",
       "     Price  Promotion            Labels  Sent_All  Sent_Product  Sent_Place   \n",
       "51       0          0         [Product]    0.0000        0.0000         NaN  \\\n",
       "976      1          0  [Product, Price]    0.8581        0.8581         NaN   \n",
       "184      1          0  [Product, Price]    0.0772        0.0772         NaN   \n",
       "\n",
       "     Sent_Price  Sent_Promotion Sent_Max  \n",
       "51          NaN             NaN  Product  \n",
       "976      0.8581             NaN    Price  \n",
       "184      0.0772             NaN    Price  "
      ]
     },
     "execution_count": 6,
     "metadata": {},
     "output_type": "execute_result"
    }
   ],
   "source": [
    "# Preprocess text and classify MMX in blocks\n",
    "df = synx.block_process(df, block_size, model, tokenizer, device, t, id2label)\n",
    "\n",
    "# Calculate sentiment polarity scores\n",
    "df = synx.apply_vader_sentiment(df, t)\n",
    "print(f'\\n{datetime.now().strftime(\"%H:%M:%S\")} --> Finished sentiment analysis for {len(df)} Texts')\n",
    "\n",
    "# Take a look\n",
    "df.head(3)"
   ]
  },
  {
   "cell_type": "code",
   "execution_count": 7,
   "id": "3d4305ed",
   "metadata": {},
   "outputs": [],
   "source": [
    "# Save texts with MMX labels and sentiment scores\n",
    "if not os.path.exists(OUT_path): os.makedirs(OUT_path)\n",
    "df.to_pickle(f\"{OUT_path}/{OUT_file}_{brand}.pkl\")"
   ]
  },
  {
   "cell_type": "markdown",
   "id": "ec39983f",
   "metadata": {},
   "source": [
    "# 6. Identify Topics\n",
    "\n",
    "*using BERTopic*\n",
    "> Grootendorst, M. (2022). BERTopic: Neural topic modeling with a class-based TF-IDF procedure. [ArXiv](https://doi.org/10.48550/arXiv.2203.05794)"
   ]
  },
  {
   "cell_type": "markdown",
   "id": "93581a38",
   "metadata": {},
   "source": [
    "## 6.1 Prepare Data"
   ]
  },
  {
   "cell_type": "code",
   "execution_count": 8,
   "id": "47975270",
   "metadata": {},
   "outputs": [
    {
     "name": "stdout",
     "output_type": "stream",
     "text": [
      "171 Texts remaining\n"
     ]
    }
   ],
   "source": [
    "# Select MMX variable (P) to analyze: change string for P = \n",
    "P = \"Place\" # \"Product\" \"Price\" \"Promotion\"\n",
    "SP = f\"Sent_{P}\"\n",
    "\n",
    "# Only more negative texts (lower than the mean) pertaining to defined MMX variable (i.e., P)\n",
    "  # --> could also define this as negative texts where sentiment must be, e.g., negative or < -.05\n",
    "focal = df[df[SP].lt(df[SP].mean()) & df[SP].notna()].copy()\n",
    "\n",
    "# Define filename for saving results of topic modeling by MMX variable\n",
    "OUT_file = f\"{OUT_file}_{P}_Topics\"\n",
    "\n",
    "print(f\"{len(focal)} Texts remaining\")"
   ]
  },
  {
   "cell_type": "code",
   "execution_count": 9,
   "id": "4b8147f9",
   "metadata": {},
   "outputs": [],
   "source": [
    "# Clean-up text some more for topic discovery \n",
    "  # --> optional, but usually helpful. Comment out what you don't require or desire.\n",
    "\n",
    "def remove_brands_placeholders(text):\n",
    "    '''Remove words and place holders that hold little information for topic discovery'''\n",
    "    # Replace focal brand name\n",
    "    text = re.sub(r'(?i)SynFcl', 'BRAND', text)\n",
    "    # Remove hashtags and mentions\n",
    "    text = re.sub(r'@\\w+', '', text)\n",
    "    text = re.sub(r'#\\w+', '', text)\n",
    "    # Remove URL indicator\n",
    "    text = re.sub(r'URL', ' ', text)\n",
    "    # Remove phone number indicator\n",
    "    text = re.sub(r'PHONENUMBER', ' ', text)\n",
    "    # Remove eMail indicator\n",
    "    text = re.sub(r'EMAILADDRESS', ' ', text)\n",
    "    # Remove social security indicator\n",
    "    text = re.sub(r'SSNUM', ' ', text)\n",
    "    return text\n",
    "\n",
    "# Clean 'text' column some more\n",
    "focal['cleaned'] = focal['text'].apply(remove_brands_placeholders)\n",
    "focal['cleaned'] = focal['cleaned'].apply(synx.remove_joiners_commas_spaces)"
   ]
  },
  {
   "cell_type": "code",
   "execution_count": 10,
   "id": "5b10c6f8",
   "metadata": {},
   "outputs": [],
   "source": [
    "# Create documents array that BERTopic operates on\n",
    "docs = focal.cleaned.values"
   ]
  },
  {
   "cell_type": "markdown",
   "id": "1da2bd2d",
   "metadata": {},
   "source": [
    "## 6.2 Identify Topics using BERTopic\n",
    "\n",
    "Please understand that this is not a deterministic approach to topic discovery in text. For brevity, I will not elaborate on the availability and viability of truly deterministic and convergent approaches for topic discovery. What I will say is ...\n",
    "\n",
    "> **Machine Learning is Art and Science**  \n",
    "  *Daniel M. Ringel (2021)*"
   ]
  },
  {
   "cell_type": "code",
   "execution_count": 11,
   "id": "9a77d2f7",
   "metadata": {},
   "outputs": [],
   "source": [
    "# Controls: seed and select SBERT (sentence BERT) pretrained model\n",
    "seed = 42\n",
    "embed_model = \"all-MiniLM-L6-v2\"  # larger model: \"all-mpnet-base-v2\"\n",
    "\n",
    "# Hyperparameters (RoT = Rule of Thumb)\n",
    "MargRev = .5             # 0 (none) to 1 (max): considers the similarity of keywords/key phrases with the document, along with the similarity of already selected keywords and keyphrases. Maximizes within keywords diversity with respect to the document.\n",
    "UMAP_neighbors = 15      # number of similar texts considered. RoT: lower for tighter clusters, raise for broader clusters\n",
    "UMAP_dims = 30           # reduce embedding to this number of dimensions. RoT: too few and too many leads to poor topic discovery \n",
    "HDBSCAN_minclust = 10    # minimum cluster size. RoT: raise/lower for less/more topics\n",
    "Vectorizer_N = 3         # N in ngram. Consider combination of up to N words\n",
    "Vectorizer_maxocc = 100  # eliminate words from vocabulary that appear more than N = 100 times (adjust to remove replacement words like \"BRAND\")"
   ]
  },
  {
   "cell_type": "code",
   "execution_count": 12,
   "id": "8f76333b",
   "metadata": {},
   "outputs": [
    {
     "name": "stdout",
     "output_type": "stream",
     "text": [
      "huggingface/tokenizers: The current process just got forked, after parallelism has already been used. Disabling parallelism to avoid deadlocks...\n",
      "To disable this warning, you can either:\n",
      "\t- Avoid using `tokenizers` before the fork if possible\n",
      "\t- Explicitly set the environment variable TOKENIZERS_PARALLELISM=(true | false)\n"
     ]
    },
    {
     "data": {
      "application/vnd.jupyter.widget-view+json": {
       "model_id": "708629627b5d41d49fd6db72a27c0fdb",
       "version_major": 2,
       "version_minor": 0
      },
      "text/plain": [
       "Batches:   0%|          | 0/6 [00:00<?, ?it/s]"
      ]
     },
     "metadata": {},
     "output_type": "display_data"
    },
    {
     "name": "stderr",
     "output_type": "stream",
     "text": [
      "OMP: Info #276: omp_set_nested routine deprecated, please use omp_set_max_active_levels instead.\n",
      "2023-09-06 13:17:41,358 - BERTopic - Reduced dimensionality\n",
      "2023-09-06 13:17:41,365 - BERTopic - Clustered reduced embeddings\n"
     ]
    },
    {
     "name": "stdout",
     "output_type": "stream",
     "text": [
      "If you use this notebook's code, please give credit to the author by citing the paper:\n",
      "\n",
      "Daniel M. Ringel, Creating Synthetic Experts with Generative Artificial Intelligence (July 15, 2023).\n",
      "Available at SSRN: https://papers.ssrn.com/abstract_id=4542949\n"
     ]
    }
   ],
   "source": [
    "# Embed texts\n",
    "sentence_model = SentenceTransformer(embed_model) # i.e., SBERT\n",
    "embeddings = sentence_model.encode(docs, show_progress_bar=True)\n",
    "\n",
    "# Diversify topic representations\n",
    "representation_model = MaximalMarginalRelevance(diversity=MargRev)\n",
    "\n",
    "# Reduce dimensionality\n",
    "umap_model = UMAP(n_neighbors=UMAP_neighbors, n_components=UMAP_dims, min_dist=0.0, metric='cosine', random_state=seed)\n",
    "\n",
    "# Cluster reduced embeddings\n",
    "np.random.seed(seed)\n",
    "hdbscan_model = HDBSCAN(min_cluster_size=HDBSCAN_minclust, metric='euclidean', cluster_selection_method='eom', prediction_data=True)\n",
    "\n",
    "# Tokenize topics\n",
    "vectorizer_model = CountVectorizer(stop_words=\"english\",ngram_range = (1, Vectorizer_N), max_df=Vectorizer_maxocc)\n",
    "\n",
    "# Create topic representation\n",
    "ctfidf_model = ClassTfidfTransformer()\n",
    "\n",
    "# Instantiate BERTopic\n",
    "topic_model = BERTopic(\n",
    "  embedding_model=sentence_model,            # Use embedded sentences\n",
    "  representation_model=representation_model, # Diversify topic words\n",
    "  umap_model=umap_model,                     # Reduce dimensionality\n",
    "  hdbscan_model=hdbscan_model,               # Cluster reduced embeddings\n",
    "  vectorizer_model=vectorizer_model,         # Tokenize topics\n",
    "  ctfidf_model=ctfidf_model,                 # Extract topic words\n",
    "  calculate_probabilities=True,        \n",
    "  verbose=True\n",
    ")\n",
    "\n",
    "# Fit model\n",
    "topics, probs = topic_model.fit_transform(docs,embeddings)\n",
    "\n",
    "# Get topic assignments\n",
    "focal[\"Topic_ID\"] = topics\n",
    "\n",
    "# Save dataframe (this does not save the fitted model!)\n",
    "focal.to_pickle(f\"{OUT_path}/{OUT_file}_{brand}.pkl\")\n",
    "\n",
    "# Save BERTopic model\n",
    "print(\"If you use this notebook's code, please give credit to the author by citing the paper:\\n\\nDaniel M. Ringel, Creating Synthetic Experts with Generative Artificial Intelligence (July 15, 2023).\\nAvailable at SSRN: https://papers.ssrn.com/abstract_id=4542949\")\n",
    "topic_model.save(f\"{OUT_path}/{OUT_file}_{brand}_BERTopic.model\")\n",
    "\n",
    "# Load it again:  \n",
    "# topic_model = BERTopic.load(f\"{OUT_path}/{OUT_file}_{brand}_BERTopic.model\")"
   ]
  },
  {
   "cell_type": "markdown",
   "id": "621c8de6",
   "metadata": {},
   "source": [
    "## 6.3 Explore Discovered Topics\n",
    "Note that ***HDBSCAN is not an exhaustive clustering algorithm***. It will identify \"noise points\", that is, objects (here, texts) that cannot be assigned to one of the detected clusters. Because BERTopic incorporates HDBSCAN, you will see a topic labeled \"-1\". ***The \"-1\" topic is a collection of all texts that could not be assigned to one of the other topics.*** It does not show up the the graphs and maps generated directly with BERTopic."
   ]
  },
  {
   "cell_type": "code",
   "execution_count": 13,
   "id": "3c00aed6",
   "metadata": {},
   "outputs": [
    {
     "data": {
      "text/html": [
       "<iframe\n",
       "    scrolling=\"no\"\n",
       "    width=\"1220px\"\n",
       "    height=\"620\"\n",
       "    src=\"iframe_figures/figure_13.html\"\n",
       "    frameborder=\"0\"\n",
       "    allowfullscreen\n",
       "></iframe>\n"
      ]
     },
     "metadata": {},
     "output_type": "display_data"
    }
   ],
   "source": [
    "# Topic bar charts\n",
    "topic_model.visualize_barchart(top_n_topics=12, n_words=10, width=300, height=300, title ='\"Place\" Topics for Focal Fashion Brand')\n",
    "\n",
    "# Note: c-TF-IDF scores below bar charts take into account what makes the texts in one cluster (i.e.. Topic) different from texts in another cluster (i.e., Topic)"
   ]
  },
  {
   "cell_type": "code",
   "execution_count": 14,
   "id": "33d1a859",
   "metadata": {},
   "outputs": [
    {
     "data": {
      "text/html": [
       "<div>\n",
       "<style scoped>\n",
       "    .dataframe tbody tr th:only-of-type {\n",
       "        vertical-align: middle;\n",
       "    }\n",
       "\n",
       "    .dataframe tbody tr th {\n",
       "        vertical-align: top;\n",
       "    }\n",
       "\n",
       "    .dataframe thead th {\n",
       "        text-align: right;\n",
       "    }\n",
       "</style>\n",
       "<table border=\"1\" class=\"dataframe\">\n",
       "  <thead>\n",
       "    <tr style=\"text-align: right;\">\n",
       "      <th></th>\n",
       "      <th>Topic</th>\n",
       "      <th>Count</th>\n",
       "      <th>Name</th>\n",
       "      <th>Representation</th>\n",
       "      <th>Representative_Docs</th>\n",
       "    </tr>\n",
       "  </thead>\n",
       "  <tbody>\n",
       "    <tr>\n",
       "      <th>0</th>\n",
       "      <td>-1</td>\n",
       "      <td>61</td>\n",
       "      <td>-1_disappointing_customers_fashion_spree</td>\n",
       "      <td>[disappointing, customers, fashion, spree, waiting, day, stores, aroma, anchoring news, quality]</td>\n",
       "      <td>[JAN 30 2019 - YESTERDAY &amp; NOW! Once upon a time in 1969, Mick &amp; Bowie had a ground floor office at 3 Savile Row. This B&amp;W pic shows them working. Fast forward fifty years, my colour 📷 shows the s...</td>\n",
       "    </tr>\n",
       "    <tr>\n",
       "      <th>1</th>\n",
       "      <td>0</td>\n",
       "      <td>32</td>\n",
       "      <td>0_customer service_return_arrive_dallas</td>\n",
       "      <td>[customer service, return, arrive, dallas, placed order, received, minutes, seriously, deliveries, late]</td>\n",
       "      <td>[Dear I placed an order for some items for myself on 11/30. But I got a package with different items meant for a 3-year-old. Returned ASAP. No refunds yet. Contacted Sarah in Tampa, she claims she...</td>\n",
       "    </tr>\n",
       "    <tr>\n",
       "      <th>2</th>\n",
       "      <td>1</td>\n",
       "      <td>28</td>\n",
       "      <td>1_sales_outlets_malls_plans</td>\n",
       "      <td>[sales, outlets, malls, plans, physical store, leases, flagship, 2020, doors, closing]</td>\n",
       "      <td>[BRAND claims youth are returning to physical shopping. reported a rebound of about 80% of its U.S. store sales, compared with LY. Roughly 45% of its U.S. locations (285 out of 631) are back in bu...</td>\n",
       "    </tr>\n",
       "    <tr>\n",
       "      <th>3</th>\n",
       "      <td>2</td>\n",
       "      <td>27</td>\n",
       "      <td>2_denim_iconic_shopping brand_california</td>\n",
       "      <td>[denim, iconic, shopping brand, california, mind, lost, recollections incredible, push body, really miss training, pure spits lies]</td>\n",
       "      <td>[Ever been lost in nostalgia waiting for the new normal? to my Croatia visit last year at Plitvice Lakes National Park. Tees by BRAND, 👖 from 👟 by, captured with XZ3, Really digging this color sch...</td>\n",
       "    </tr>\n",
       "    <tr>\n",
       "      <th>4</th>\n",
       "      <td>3</td>\n",
       "      <td>12</td>\n",
       "      <td>3_tags_associate_roles_radio</td>\n",
       "      <td>[tags, associate, roles, radio, intern, ve, required columbus, positions info apply, previous jobs, producer dockhand pelican]</td>\n",
       "      <td>[5 careers, 5 tags 1. Retail representative 2. Crew member solarium 3. Marketing intern SGS 4. Waiter 5. Trainee radio operator, 5 previous jobs, 5 tags - - - copy editor - Sports radio soundboard...</td>\n",
       "    </tr>\n",
       "    <tr>\n",
       "      <th>5</th>\n",
       "      <td>4</td>\n",
       "      <td>11</td>\n",
       "      <td>4_cases_labor_individuals_retail</td>\n",
       "      <td>[cases, labor, individuals, retail, protests black staff, reported orient, priority posh law, racist remarks space, questioning brand possesses, remember victoria secret]</td>\n",
       "      <td>[To, cases of sexual harassment by supervisors have been reported at Orient Craft. Safety of women employees is a priority. As per the POSH law, it's essential to investigate cases., Petition here...</td>\n",
       "    </tr>\n",
       "  </tbody>\n",
       "</table>\n",
       "</div>"
      ],
      "text/plain": [
       "   Topic  Count                                      Name   \n",
       "0     -1     61  -1_disappointing_customers_fashion_spree  \\\n",
       "1      0     32   0_customer service_return_arrive_dallas   \n",
       "2      1     28               1_sales_outlets_malls_plans   \n",
       "3      2     27  2_denim_iconic_shopping brand_california   \n",
       "4      3     12              3_tags_associate_roles_radio   \n",
       "5      4     11          4_cases_labor_individuals_retail   \n",
       "\n",
       "                                                                                                                                                               Representation   \n",
       "0                                                                            [disappointing, customers, fashion, spree, waiting, day, stores, aroma, anchoring news, quality]  \\\n",
       "1                                                                    [customer service, return, arrive, dallas, placed order, received, minutes, seriously, deliveries, late]   \n",
       "2                                                                                      [sales, outlets, malls, plans, physical store, leases, flagship, 2020, doors, closing]   \n",
       "3                                         [denim, iconic, shopping brand, california, mind, lost, recollections incredible, push body, really miss training, pure spits lies]   \n",
       "4                                              [tags, associate, roles, radio, intern, ve, required columbus, positions info apply, previous jobs, producer dockhand pelican]   \n",
       "5  [cases, labor, individuals, retail, protests black staff, reported orient, priority posh law, racist remarks space, questioning brand possesses, remember victoria secret]   \n",
       "\n",
       "                                                                                                                                                                                       Representative_Docs  \n",
       "0  [JAN 30 2019 - YESTERDAY & NOW! Once upon a time in 1969, Mick & Bowie had a ground floor office at 3 Savile Row. This B&W pic shows them working. Fast forward fifty years, my colour 📷 shows the s...  \n",
       "1  [Dear I placed an order for some items for myself on 11/30. But I got a package with different items meant for a 3-year-old. Returned ASAP. No refunds yet. Contacted Sarah in Tampa, she claims she...  \n",
       "2  [BRAND claims youth are returning to physical shopping. reported a rebound of about 80% of its U.S. store sales, compared with LY. Roughly 45% of its U.S. locations (285 out of 631) are back in bu...  \n",
       "3  [Ever been lost in nostalgia waiting for the new normal? to my Croatia visit last year at Plitvice Lakes National Park. Tees by BRAND, 👖 from 👟 by, captured with XZ3, Really digging this color sch...  \n",
       "4  [5 careers, 5 tags 1. Retail representative 2. Crew member solarium 3. Marketing intern SGS 4. Waiter 5. Trainee radio operator, 5 previous jobs, 5 tags - - - copy editor - Sports radio soundboard...  \n",
       "5  [To, cases of sexual harassment by supervisors have been reported at Orient Craft. Safety of women employees is a priority. As per the POSH law, it's essential to investigate cases., Petition here...  "
      ]
     },
     "execution_count": 14,
     "metadata": {},
     "output_type": "execute_result"
    }
   ],
   "source": [
    "# List topics\n",
    "info = topic_model.get_topic_info()\n",
    "info"
   ]
  },
  {
   "cell_type": "code",
   "execution_count": 15,
   "id": "4a56de1d",
   "metadata": {},
   "outputs": [
    {
     "name": "stdout",
     "output_type": "stream",
     "text": [
      "Topic 0:\n",
      "\n",
      "- Dear I placed an order for some items for myself on 11/30. But I got a package with different items meant for a 3-year-old. Returned ASAP. No refunds yet. Contacted Sarah in Tampa, she claims she’s unable to assist even though she confirmed receipt of returned items.\n",
      "\n",
      "- I dislike tweeting for customer service issues but I might as well cease ordering from because my orders keep getting divided, show up late and are constantly misplaced. I placed an order with 2-day shipping LAST WEEK and nothing has arrived yet. Shipping from MO to KS. Absurd.\n",
      "\n",
      "- Understand that staffing is a challenge, but I placed an order with 10 days ago and the shipment is expected to arrive only by Tuesday. They seem to use the slowest standard delivery service. Contrarily, deliveries from Walmart, Tradesy and an indie brand have all arrived within just 3-5 days.\n",
      "\n",
      "\n",
      "\n",
      "Topic 1:\n",
      "\n",
      "- BRAND claims youth are returning to physical shopping. reported a rebound of about 80% of its U.S. store sales, compared with LY. Roughly 45% of its U.S. locations (285 out of 631) are back in business. By ⁦ ⁦⁩ $SYN\n",
      "\n",
      "- Claims of the downfall of all retail stores might be a bit too early. At stores that have re-opened, reveals US sales were 80% of last year, at 95% and higher. Check out the full report from Consumer Insights, a leading retail research\n",
      "\n",
      "- Floored to hear is shutting the doors of its flagship store on Carnaby Street. I know online shopping is available, but strolling around the physical store has a charm of its own. Remember being hooked to the brand since my visit to the US for a Summer Fest in '02. Just one more casualty of the pandemic 😓\n",
      "\n",
      "\n",
      "\n",
      "Topic 2:\n",
      "\n",
      "- Ever been lost in nostalgia waiting for the new normal? to my Croatia visit last year at Plitvice Lakes National Park. Tees by BRAND, 👖 from 👟 by, captured with XZ3\n",
      "\n",
      "- Really digging this color scheme lately 🤓 - Attire: Beanie Puffer Sweater Pants: BRAND Shoes: Socks: Bag: @ Soho, NYC\n",
      "\n",
      "- This marked my first diner visit post -19. I wanted a laid back yet appealing look! Nothing like denim shorts paired with 😉 Remember, a simple outfit can still be...\n",
      "\n",
      "\n",
      "\n",
      "Topic 3:\n",
      "\n",
      "- 5 careers, 5 tags 1. Retail representative 2. Crew member solarium 3. Marketing intern SGS 4. Waiter 5. Trainee radio operator\n",
      "\n",
      "- 5 previous jobs, 5 tags - - - copy editor - Sports radio soundboard operator - Freshman year burger joint at (skipped my initial shift 🤷 ♀️)\n",
      "\n",
      "- First 5 roles/5 tags 1. Sales Rep Georgetown Mall 2. Community Games Coach 3. Stock Room at 4. Mentor at 5. Marketing & Promotions Intern at\n",
      "\n",
      "\n",
      "\n",
      "Topic 4:\n",
      "\n",
      "- To, cases of sexual harassment by supervisors have been reported at Orient Craft. Safety of women employees is a priority. As per the POSH law, it's essential to investigate cases., Petition here:\n",
      "\n",
      "- During my tenure at &, the atmosphere was extremely PREJUDICIAL. Visiting HR for redressal was like talking to a brick wall. Both firms had a rigid penchant for recruiting PRIVILEGED WHITE individuals as MANAGERS & we were always looked upon. I can't erase that experience from my memory\n",
      "\n",
      "- My Facebook circle's been abuzz with conversations on racism . Apparently, if you're African American, you're delegated to the rear of the store. Remember Victoria's Secret's secret camera fiasco? Questioning if BRAND too possesses such dubious practices.\n",
      "\n",
      "\n",
      "\n"
     ]
    }
   ],
   "source": [
    "# Print central texts of each topic\n",
    "for i in range(info['Topic'].max()+1):\n",
    "    topic_doc_lists = info[info['Topic'] == i]['Representative_Docs'].to_list()\n",
    "    for topic_docs in topic_doc_lists:\n",
    "        print(f\"Topic {i}:\\n\")\n",
    "        for doc in topic_docs:\n",
    "            print(f\"- {doc}\\n\")\n",
    "        print(f\"\\n\")"
   ]
  },
  {
   "cell_type": "code",
   "execution_count": 16,
   "id": "a0d3dd40",
   "metadata": {},
   "outputs": [
    {
     "name": "stdout",
     "output_type": "stream",
     "text": [
      "- @SynFcl I received a delivery confirmation notification but it hasn't shown up. Delivery order number 30283690325.\n",
      "\n",
      "- Guess who's still waiting for their orders from @Macys since 11/27? Macy's advice: Wait for a shipping update by ____. That's all they've got! In contrast,@SynFcl managed to deliver my jacket using @UPS on 12/24.\n",
      "\n",
      "- Received unparalleled customer service from @SynFcl online (Canada).\n",
      "\n",
      "- I dislike tweeting for customer service issues but I might as well cease ordering from @SynFcl because my orders keep getting divided, show up late and are constantly misplaced. I placed an order with 2-day shipping LAST WEEK and nothing has arrived yet. Shipping from MO to KS. Absurd.\n",
      "\n",
      "- /1/ Drove an extra 20 minutes to return a @SynFcl knit because the shipping price would've been a pain. Waited another 20 minutes in line and then 10 minutes at the counter. 🙄\n",
      "\n",
      "- Mailed a return to @SynFcl on the weekend, no tracking updates yet. When contacted, their customer service said it's due to the use of their provided return label & advised not using it. The label THEY provided... URL\n",
      "\n",
      "- Horribly slow delivery from @SynFcl who bill me for expedited shipping via @FedEx but deliver a week late to some random store nowhere near my home, forcing me to drive and pick up during a pandemic. #COVID19\n",
      "\n",
      "- A huge shout out to Jackie at @SynFcl for assisting with my order! However, @DHLUS, your customer service was PAINFULLY BAD!\n",
      "\n",
      "- Seriously questioning this @StampsCom #shipstation firm that my @SynFcl order was sent with... utterly poor service! The order, which was shipped nearly 3 weeks ago, has been stagnating in Dallas with zero progress in over 4 days...\n",
      "\n",
      "- What a disappointment to shell out for express shipping and still don’t receive it on time. A total miss SynFcl 👎🏽👎🏽👎🏽\n",
      "\n",
      "- My former middle-school self is having a moment with the @SynFcl delivery that just arrived at my doorstep #Officially29\n",
      "\n",
      "- I've been attacked digitally 2 times in 2 months. @WellsFargo this is seriously intolerable and I require a refund. I don’t ever utilize @Stripe nor am I a customer of @SynFcl in Bakersfield, CA- what the heck is occurring with this mess?!!!\n",
      "\n",
      "- Intriguingly, if you place an order from @PacSun in Wales there's no issue but if you order from @SynFcl there are massive delays due to lockdown 👀 they're essentially the same entity what in the world??!\n",
      "\n",
      "- This is the final time I will ever shop online from @SynFcl. Always had a disappointing experience with delivery.\n",
      "\n",
      "- Imagine residing in Wisconsin, and your parcel gets rerouted to Texas. How can someone not chuckle at this absurdity!? By the way, thanks for the text last Monday @SynFcl, informing me that my package would arrive the very next day. #AmIStillWaiting #WillItEverArrive #LaughingItOff URL\n",
      "\n",
      "- Awaiting an overseas shipment from @SynFcl 🇺🇸 being delivered by @DHLUS. I called their customer service to check their treatment of packages 📦 during this period. The reply - no special sanitization procedures, they deliver as received! #ugh #COVID19 #Unbelievable\n",
      "\n",
      "- My @SynFcl delivery has taken a detour it seems... it was due yesterday. Why from Dallas to Irving and back to Dallas?!?! URL\n",
      "\n",
      "- Never again will I order from @SynFcl! Despite getting my address right, they somehow manage mess it up and my orders return to sender.\n",
      "\n",
      "- Can’t believe that I can't use @PacSun gift cards at @SynFcl when they’re the same company?! 😠\n",
      "\n",
      "- Is it typical for @SynFcl online orders to take this long to arrive? I’ve been waiting on my items for 6 days 😞\n",
      "\n",
      "- My online SynFcl order isn't at the store 😭 waited for it for a fortnight only to find it missing. Now I'll have to deal with countless procedures to get either it or my money back. Not cool.\n",
      "\n",
      "- Understand that staffing is a challenge, but I placed an order with @SynFcl 10 days ago and the shipment is expected to arrive only by Tuesday. They seem to use the slowest standard delivery service. Contrarily, deliveries from Walmart, Tradesy and an indie brand have all arrived within just 3-5 days.\n",
      "\n",
      "- The fact that you permitted me to purchase an item that's not available is highly unprofessional @SynFcl\n",
      "\n",
      "- Seriously, where's my @SynFcl order? It's been nearly 2 weeks now 😤\n",
      "\n",
      "- Hey @SynFcl, is your India website out of order? Or is it stopped due to the #COVID19? It was working just a couple of hours ago but now it redirects me to the global site. URL\n",
      "\n"
     ]
    }
   ],
   "source": [
    "# See original texts for specified topic (ID)\n",
    "i = 0\n",
    "texts = focal[focal.Topic_ID==i].text.head(25).to_list()\n",
    "for doc in texts:\n",
    "            print(f\"- {doc}\\n\")"
   ]
  },
  {
   "cell_type": "code",
   "execution_count": 17,
   "id": "d1df50f5",
   "metadata": {},
   "outputs": [
    {
     "data": {
      "text/html": [
       "<iframe\n",
       "    scrolling=\"no\"\n",
       "    width=\"670px\"\n",
       "    height=\"670\"\n",
       "    src=\"iframe_figures/figure_17.html\"\n",
       "    frameborder=\"0\"\n",
       "    allowfullscreen\n",
       "></iframe>\n"
      ]
     },
     "metadata": {},
     "output_type": "display_data"
    }
   ],
   "source": [
    "# Interactive topic map\n",
    "topic_model.visualize_topics()"
   ]
  },
  {
   "cell_type": "code",
   "execution_count": 18,
   "id": "b8796f42",
   "metadata": {},
   "outputs": [
    {
     "data": {
      "text/html": [
       "<iframe\n",
       "    scrolling=\"no\"\n",
       "    width=\"920px\"\n",
       "    height=\"620\"\n",
       "    src=\"iframe_figures/figure_18.html\"\n",
       "    frameborder=\"0\"\n",
       "    allowfullscreen\n",
       "></iframe>\n"
      ]
     },
     "metadata": {},
     "output_type": "display_data"
    }
   ],
   "source": [
    "# Explore topics on interactive texts similarity map\n",
    "topic_model.visualize_documents(docs, embeddings=embeddings,width=900, height=600, title =\"Texts Map\")"
   ]
  },
  {
   "cell_type": "code",
   "execution_count": 19,
   "id": "a1269d9d",
   "metadata": {},
   "outputs": [
    {
     "data": {
      "text/html": [
       "<iframe\n",
       "    scrolling=\"no\"\n",
       "    width=\"820px\"\n",
       "    height=\"820\"\n",
       "    src=\"iframe_figures/figure_19.html\"\n",
       "    frameborder=\"0\"\n",
       "    allowfullscreen\n",
       "></iframe>\n"
      ]
     },
     "metadata": {},
     "output_type": "display_data"
    }
   ],
   "source": [
    "# Heatmap of topic similarity\n",
    "topic_model.visualize_heatmap(n_clusters=len(info)-2)"
   ]
  },
  {
   "cell_type": "code",
   "execution_count": 20,
   "id": "cd701412",
   "metadata": {
    "scrolled": true
   },
   "outputs": [
    {
     "data": {
      "text/html": [
       "<iframe\n",
       "    scrolling=\"no\"\n",
       "    width=\"1020px\"\n",
       "    height=\"295\"\n",
       "    src=\"iframe_figures/figure_20.html\"\n",
       "    frameborder=\"0\"\n",
       "    allowfullscreen\n",
       "></iframe>\n"
      ]
     },
     "metadata": {},
     "output_type": "display_data"
    }
   ],
   "source": [
    "# Show topic hierachy\n",
    "topic_model.visualize_hierarchy()"
   ]
  },
  {
   "cell_type": "code",
   "execution_count": 21,
   "id": "701fb902",
   "metadata": {},
   "outputs": [
    {
     "data": {
      "text/html": [
       "<iframe\n",
       "    scrolling=\"no\"\n",
       "    width=\"820px\"\n",
       "    height=\"620\"\n",
       "    src=\"iframe_figures/figure_21.html\"\n",
       "    frameborder=\"0\"\n",
       "    allowfullscreen\n",
       "></iframe>\n"
      ]
     },
     "metadata": {},
     "output_type": "display_data"
    }
   ],
   "source": [
    "# Show topic probability distribution for a specific document \n",
    "# --> here, a document are all texts of a cluster = Topic and stored in the \"docs\" array\n",
    "# Important: Document number (ID) is not necessarily equal to cluster ID (i.e. Topic ID).\n",
    "# --> I used \"-1\" here to select the last document (not the noise points = text that were not assciated with a topic, which are collected in cluster -1)\n",
    "\n",
    "topic_model.visualize_distribution(topic_model.probabilities_[-1])"
   ]
  },
  {
   "cell_type": "code",
   "execution_count": 22,
   "id": "d40c587f",
   "metadata": {},
   "outputs": [
    {
     "name": "stdout",
     "output_type": "stream",
     "text": [
      "If you use this notebook's code, please give credit to the author by citing the paper:\n",
      "\n",
      "Daniel M. Ringel, Creating Synthetic Experts with Generative Artificial Intelligence (July 15, 2023).\n",
      "Available at SSRN: https://papers.ssrn.com/abstract_id=4542949\n"
     ]
    }
   ],
   "source": [
    "print(\"If you use this notebook's code, please give credit to the author by citing the paper:\\n\\nDaniel M. Ringel, Creating Synthetic Experts with Generative Artificial Intelligence (July 15, 2023).\\nAvailable at SSRN: https://papers.ssrn.com/abstract_id=4542949\")"
   ]
  }
 ],
 "metadata": {
  "kernelspec": {
   "display_name": "Python 3 (ipykernel)",
   "language": "python",
   "name": "python3"
  },
  "language_info": {
   "codemirror_mode": {
    "name": "ipython",
    "version": 3
   },
   "file_extension": ".py",
   "mimetype": "text/x-python",
   "name": "python",
   "nbconvert_exporter": "python",
   "pygments_lexer": "ipython3",
   "version": "3.8.16"
  }
 },
 "nbformat": 4,
 "nbformat_minor": 5
}
