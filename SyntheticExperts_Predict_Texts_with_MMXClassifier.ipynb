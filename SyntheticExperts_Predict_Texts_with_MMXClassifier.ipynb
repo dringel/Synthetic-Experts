{
 "cells": [
  {
   "cell_type": "markdown",
   "id": "9da9b22c",
   "metadata": {},
   "source": [
    "# Creating Synthetic Experts with Generative AI\n",
    "> ## Prediction with Fine-Tuned Model  \n",
    "*Batch Edition* for larger Datasets\n",
    "  \n",
    "Version 1.0   \n",
    "Date: September 2, 2023    \n",
    "Author: Daniel M. Ringel    \n",
    "Contact: dmr@unc.edu\n",
    "\n",
    "*Daniel M. Ringel, Creating Synthetic Experts with Generative Artificial Intelligence (July 15, 2023).  \n",
    "Available at SSRN: https://papers.ssrn.com/abstract_id=4542949*"
   ]
  },
  {
   "cell_type": "markdown",
   "id": "8f826dd3",
   "metadata": {},
   "source": [
    "##### Apple M1/M2 GPU MPS Requirements (Optional)\n",
    "> See Python Notebook: [Setup-MacBook-M2-Pytorch-TensorFlow-Apr2023.ipynb](https://github.com/dringel/Synthetic-Experts)  \n",
    "\n",
    "- Mac computer with Apple silicon GPU\n",
    "- macOS 12.3 or later\n",
    "- Python 3.7 or later\n",
    "- Xcode command-line tools: xcode-select --install\n",
    "\n",
    "##### If you have no GPU available, the code falls back to your CPU"
   ]
  },
  {
   "cell_type": "markdown",
   "id": "64c66ae6",
   "metadata": {},
   "source": [
    "# *Synthetic Twins*\n",
    "This notebook is published with demo data. These data are based on real Tweets but were rewritten by an AI. I call these data ***Synthetic Twins***.  \n",
    "  \n",
    "  \n",
    "***Synthetic Twins*** correspond semantically in idea and meaning to original texts. However, wording, people, places, firms, brands, and products were changed by an AI. As such, ***Synthetic Twins*** mitigate, to some extent, possible privacy, and copyright concerns. If you'd like to learn more about ***Synthetic Twins***, another generative AI project by Daniel Ringel, then please get in touch! dmr@unc.edu  \n",
    "\n",
    "You can ***create your own Synthetic Twins of texts*** with this Python notebook:   `SyntheticExperts_Create_Synthetic_Twins_of_Texts.ipynb`,   \n",
    "available as BETA version (still being tested) on the **Synthetic Experts [GitHub](https://github.com/dringel/Synthetic-Experts)** respository.<br><br><br>"
   ]
  },
  {
   "cell_type": "markdown",
   "id": "1e34b0d1",
   "metadata": {},
   "source": [
    "# 1. Installs"
   ]
  },
  {
   "cell_type": "code",
   "execution_count": 1,
   "id": "917dcbd6",
   "metadata": {},
   "outputs": [],
   "source": [
    "# Required Python Packages:\n",
    "# !pip3 install beautifulsoup4\n",
    "# !pip3 install torch torchvision torchaudio\n",
    "# !pip3 install transformers"
   ]
  },
  {
   "cell_type": "markdown",
   "id": "c07ac8e2",
   "metadata": {},
   "source": [
    "# 2. Imports"
   ]
  },
  {
   "cell_type": "code",
   "execution_count": 2,
   "id": "99cd227f",
   "metadata": {},
   "outputs": [],
   "source": [
    "import os, pandas as pd, numpy as np, torch, warnings, re\n",
    "from datetime import datetime\n",
    "from transformers import AutoModelForSequenceClassification, AutoTokenizer, PreTrainedModel\n",
    "import UseSynExp as synx"
   ]
  },
  {
   "cell_type": "markdown",
   "id": "8903dcc7",
   "metadata": {},
   "source": [
    "# 3. Setup"
   ]
  },
  {
   "cell_type": "code",
   "execution_count": 3,
   "id": "79707c0b",
   "metadata": {},
   "outputs": [
    {
     "name": "stdout",
     "output_type": "stream",
     "text": [
      "Directory \"Data\" already exists:\n",
      "Make sure that it contains the \"IN_file\" (\"Example_Tweets.pkl\")\n"
     ]
    }
   ],
   "source": [
    "# Path and Filenames\n",
    "IN_path = \"Data\"\n",
    "IN_file = \"Demo_FashionBrand_SyntheticTwins\"\n",
    "OUT_path = IN_path\n",
    "OUT_file = IN_file\n",
    "\n",
    "if not os.path.exists(IN_path):\n",
    "    os.makedirs(IN_path)\n",
    "    print(f'Directory \"{IN_path}\" created ... \\nWARNING: You need to copy the \"IN_file\" (\"Example_Tweets.pkl\") into this directory.')\n",
    "else:\n",
    "    print(f'Directory \"{IN_path}\" already exists:\\nMake sure that it contains the \"IN_file\" (\"Example_Tweets.pkl\")')"
   ]
  },
  {
   "cell_type": "code",
   "execution_count": 4,
   "id": "c24c7189",
   "metadata": {},
   "outputs": [
    {
     "name": "stdout",
     "output_type": "stream",
     "text": [
      "PyTorch version: 2.0.0\n",
      "GPU available! Using >>> mps <<< for inference\n"
     ]
    }
   ],
   "source": [
    "print(f\"PyTorch version: {torch.__version__}\")\n",
    "device = \"mps\" if \"backends\" in dir(torch) and hasattr(torch.backends, 'mps') and torch.backends.mps.is_built() and torch.backends.mps.is_available() else \"cuda\" if torch.cuda.is_available() else \"cpu\"\n",
    "if device == \"cpu\": print(\"No GPU found, using >>> CPU <<<, which will be slower.\") \n",
    "else: print(f\"GPU available! Using >>> {device} <<< for inference\")"
   ]
  },
  {
   "cell_type": "code",
   "execution_count": 5,
   "id": "43d079a6",
   "metadata": {},
   "outputs": [],
   "source": [
    "# Set Controls\n",
    "t = 0.5    # Threshold for positive labels\n",
    "block_size = 1000  # Set your batch size\n",
    "\n",
    "# Define HuggingFace Model: The MMX Synthetic Expert\n",
    "MODEL = \"dmr76/mmx_classifier_microblog_ENv02\""
   ]
  },
  {
   "cell_type": "markdown",
   "id": "2289d7f2",
   "metadata": {},
   "source": [
    "# 4. Load Data"
   ]
  },
  {
   "cell_type": "code",
   "execution_count": 6,
   "id": "2c40bdf7",
   "metadata": {},
   "outputs": [],
   "source": [
    "# Load Demo Data - Assumes pickle file with columns id and text - can easily change to another format\n",
    "df = pd.read_pickle(f\"{IN_path}/{IN_file}.pkl\")  # df = pd.read_excel(f\"{IN_path}{IN_file}.xlsx\")\n",
    "df = df[[\"created_at\", \"text\"]]  # Keep only created and Text columns\n",
    "\n",
    "# only using first 2000 texts here (comment out for all)\n",
    "df = df.head(2000) "
   ]
  },
  {
   "cell_type": "code",
   "execution_count": 7,
   "id": "7af7b70a",
   "metadata": {},
   "outputs": [],
   "source": [
    "# OPTIONAL: Load raw Twitter data and save what is needed to pickle (or excel), then load.\n",
    "\n",
    "# tweets = pd.read_csv(f\"{IN_path}/Abercrombie.csv\",low_memory=False)\n",
    "# tweets = tweets[[\"id\",'created_at','text']]\n",
    "# tweets = tweets.drop_duplicates(subset=[\"text\"])\n",
    "# tweets.to_pickle(f\"{IN_path}/{IN_file}.pkl\")  # tweets.to_excel(f\"{IN_path}/{IN_file}.xlsx\")"
   ]
  },
  {
   "cell_type": "markdown",
   "id": "4dac37a5",
   "metadata": {},
   "source": [
    "# 5. Predict Texts"
   ]
  },
  {
   "cell_type": "code",
   "execution_count": 8,
   "id": "867ec5fe",
   "metadata": {},
   "outputs": [],
   "source": [
    "# Load Model and Tokenizer\n",
    "model = AutoModelForSequenceClassification.from_pretrained(MODEL)\n",
    "tokenizer = AutoTokenizer.from_pretrained(MODEL)\n",
    "model.to(device)\n",
    "id2label = model.config.id2label # Get id2label from the model's config"
   ]
  },
  {
   "cell_type": "code",
   "execution_count": 9,
   "id": "c531a1aa",
   "metadata": {},
   "outputs": [
    {
     "name": "stdout",
     "output_type": "stream",
     "text": [
      "13:38:31 Starting block labeling:\n",
      "\n",
      "13:38:42 --> Finished labeling up to 1000 Texts\n",
      "13:38:51 --> Finished labeling up to 2000 Texts\n",
      "CPU times: user 13.2 s, sys: 3.2 s, total: 16.4 s\n",
      "Wall time: 20.6 s\n"
     ]
    }
   ],
   "source": [
    "%%time\n",
    "# Preprocess and Predict Texts in Batches\n",
    "df = synx.block_process(df, block_size, model, tokenizer, device, t, id2label)"
   ]
  },
  {
   "cell_type": "code",
   "execution_count": 10,
   "id": "3cc529f5",
   "metadata": {},
   "outputs": [
    {
     "data": {
      "text/html": [
       "<div>\n",
       "<style scoped>\n",
       "    .dataframe tbody tr th:only-of-type {\n",
       "        vertical-align: middle;\n",
       "    }\n",
       "\n",
       "    .dataframe tbody tr th {\n",
       "        vertical-align: top;\n",
       "    }\n",
       "\n",
       "    .dataframe thead th {\n",
       "        text-align: right;\n",
       "    }\n",
       "</style>\n",
       "<table border=\"1\" class=\"dataframe\">\n",
       "  <thead>\n",
       "    <tr style=\"text-align: right;\">\n",
       "      <th></th>\n",
       "      <th>text</th>\n",
       "      <th>Labels</th>\n",
       "    </tr>\n",
       "  </thead>\n",
       "  <tbody>\n",
       "    <tr>\n",
       "      <th>0</th>\n",
       "      <td>Spectacles-&gt; @LensCrafters Coat -&gt; @SynFcl Oxford-&gt; @SynFcl Tee-&gt; @SynFcl Denims-&gt; @SynFcl Hosiery-&gt; @SynFcl Belt-&gt; Not sure! Ankle Boots-&gt; @BananaRepublic URL</td>\n",
       "      <td>[Product]</td>\n",
       "    </tr>\n",
       "    <tr>\n",
       "      <th>1</th>\n",
       "      <td>Absolutely yes, I did wake up at early hours owing to my pet kittens, and made a choice to buy this @SynFcl coat that I desired and was finally back in my size</td>\n",
       "      <td>[Product]</td>\n",
       "    </tr>\n",
       "    <tr>\n",
       "      <th>2</th>\n",
       "      <td>Discovered my ideal pair of @SynFcl denim pants but they aren’t made in black. Grabbed another pair and planning to try a DIY dyeing job 😂🤞🏽</td>\n",
       "      <td>[Product]</td>\n",
       "    </tr>\n",
       "    <tr>\n",
       "      <th>3</th>\n",
       "      <td>I've been attacked digitally 2 times in 2 months. @WellsFargo this is seriously intolerable and I require a refund. I don’t ever utilize @Stripe nor am I a customer of @SynFcl in Bakersfield, CA- ...</td>\n",
       "      <td>[Product, Place]</td>\n",
       "    </tr>\n",
       "    <tr>\n",
       "      <th>4</th>\n",
       "      <td>To embrace the New Year, @SynFcl is MATCHING all contributions up to $25,000! 🎉 Your donation will help us answer twice as many calls, messages, and live chats, enable us to train twice as many vo...</td>\n",
       "      <td>[Promotion]</td>\n",
       "    </tr>\n",
       "  </tbody>\n",
       "</table>\n",
       "</div>"
      ],
      "text/plain": [
       "                                                                                                                                                                                                      text   \n",
       "0                                          Spectacles-> @LensCrafters Coat -> @SynFcl Oxford-> @SynFcl Tee-> @SynFcl Denims-> @SynFcl Hosiery-> @SynFcl Belt-> Not sure! Ankle Boots-> @BananaRepublic URL  \\\n",
       "1                                          Absolutely yes, I did wake up at early hours owing to my pet kittens, and made a choice to buy this @SynFcl coat that I desired and was finally back in my size   \n",
       "2                                                             Discovered my ideal pair of @SynFcl denim pants but they aren’t made in black. Grabbed another pair and planning to try a DIY dyeing job 😂🤞🏽   \n",
       "3  I've been attacked digitally 2 times in 2 months. @WellsFargo this is seriously intolerable and I require a refund. I don’t ever utilize @Stripe nor am I a customer of @SynFcl in Bakersfield, CA- ...   \n",
       "4  To embrace the New Year, @SynFcl is MATCHING all contributions up to $25,000! 🎉 Your donation will help us answer twice as many calls, messages, and live chats, enable us to train twice as many vo...   \n",
       "\n",
       "             Labels  \n",
       "0         [Product]  \n",
       "1         [Product]  \n",
       "2         [Product]  \n",
       "3  [Product, Place]  \n",
       "4       [Promotion]  "
      ]
     },
     "execution_count": 10,
     "metadata": {},
     "output_type": "execute_result"
    }
   ],
   "source": [
    "# Take a look at first 5 texts\n",
    "pd.set_option(\"display.max_colwidth\", 200)\n",
    "df[[\"text\", \"Labels\"]].head(5)"
   ]
  },
  {
   "cell_type": "code",
   "execution_count": 11,
   "id": "a59c490c",
   "metadata": {},
   "outputs": [
    {
     "data": {
      "text/html": [
       "<div>\n",
       "<style scoped>\n",
       "    .dataframe tbody tr th:only-of-type {\n",
       "        vertical-align: middle;\n",
       "    }\n",
       "\n",
       "    .dataframe tbody tr th {\n",
       "        vertical-align: top;\n",
       "    }\n",
       "\n",
       "    .dataframe thead th {\n",
       "        text-align: right;\n",
       "    }\n",
       "</style>\n",
       "<table border=\"1\" class=\"dataframe\">\n",
       "  <thead>\n",
       "    <tr style=\"text-align: right;\">\n",
       "      <th></th>\n",
       "      <th>text</th>\n",
       "      <th>Labels</th>\n",
       "    </tr>\n",
       "  </thead>\n",
       "  <tbody>\n",
       "    <tr>\n",
       "      <th>9</th>\n",
       "      <td>This @SynFcl pullover is currently available at a significant discount, with all sizes still open for purchase (which is unprecedented). Shop it here: URL URL</td>\n",
       "      <td>[Product, Price, Promotion]</td>\n",
       "    </tr>\n",
       "    <tr>\n",
       "      <th>11</th>\n",
       "      <td>Remember that compact leather down jacket S couldn't stop raving about from SynFcl? There's another one, quite alike and on sale, made of faux fur. It's irresistibly adorable and warm. Catch the d...</td>\n",
       "      <td>[Product, Price, Promotion]</td>\n",
       "    </tr>\n",
       "    <tr>\n",
       "      <th>17</th>\n",
       "      <td>Outerwear is the rage at SynFcl! 🧥 A variety of warm, woolly and fun, fuzzy coats and jackets are awaiting you. Visit and take advantage of the sales! #CityCentreLV</td>\n",
       "      <td>[Product, Place, Price, Promotion]</td>\n",
       "    </tr>\n",
       "    <tr>\n",
       "      <th>29</th>\n",
       "      <td>Outfit: $175, Christmas Dinner: $500, Sneaking off to take off my bra halfway through: Absolutely no price for that comfort 😆Dress- @SynFcl, Jacket &amp; Shoes- @Target #holidayseason #ChristmasCelebr...</td>\n",
       "      <td>[Product, Price]</td>\n",
       "    </tr>\n",
       "    <tr>\n",
       "      <th>30</th>\n",
       "      <td>/1/ Drove an extra 20 minutes to return a @SynFcl knit because the shipping price would've been a pain. Waited another 20 minutes in line and then 10 minutes at the counter. 🙄</td>\n",
       "      <td>[Product, Place, Price]</td>\n",
       "    </tr>\n",
       "  </tbody>\n",
       "</table>\n",
       "</div>"
      ],
      "text/plain": [
       "                                                                                                                                                                                                       text   \n",
       "9                                            This @SynFcl pullover is currently available at a significant discount, with all sizes still open for purchase (which is unprecedented). Shop it here: URL URL  \\\n",
       "11  Remember that compact leather down jacket S couldn't stop raving about from SynFcl? There's another one, quite alike and on sale, made of faux fur. It's irresistibly adorable and warm. Catch the d...   \n",
       "17                                     Outerwear is the rage at SynFcl! 🧥 A variety of warm, woolly and fun, fuzzy coats and jackets are awaiting you. Visit and take advantage of the sales! #CityCentreLV   \n",
       "29  Outfit: $175, Christmas Dinner: $500, Sneaking off to take off my bra halfway through: Absolutely no price for that comfort 😆Dress- @SynFcl, Jacket & Shoes- @Target #holidayseason #ChristmasCelebr...   \n",
       "30                          /1/ Drove an extra 20 minutes to return a @SynFcl knit because the shipping price would've been a pain. Waited another 20 minutes in line and then 10 minutes at the counter. 🙄   \n",
       "\n",
       "                                Labels  \n",
       "9          [Product, Price, Promotion]  \n",
       "11         [Product, Price, Promotion]  \n",
       "17  [Product, Place, Price, Promotion]  \n",
       "29                    [Product, Price]  \n",
       "30             [Product, Place, Price]  "
      ]
     },
     "execution_count": 11,
     "metadata": {},
     "output_type": "execute_result"
    }
   ],
   "source": [
    "# Take a look at first 5 texts that are about Price\n",
    "df[df.Price==1][[\"text\", \"Labels\"]].head(5)"
   ]
  },
  {
   "cell_type": "markdown",
   "id": "9429c963",
   "metadata": {},
   "source": [
    "# 6. Save Labeled Texts"
   ]
  },
  {
   "cell_type": "code",
   "execution_count": 12,
   "id": "6df8ed13",
   "metadata": {},
   "outputs": [
    {
     "name": "stdout",
     "output_type": "stream",
     "text": [
      "If you use this notebook's code, please give credit to the author by citing the paper:\n",
      "\n",
      "Daniel M. Ringel, Creating Synthetic Experts with Generative Artificial Intelligence (July 15, 2023). Available at SSRN: https://papers.ssrn.com/abstract_id=4542949\n"
     ]
    }
   ],
   "source": [
    "# Save labeled Texts\n",
    "df.to_pickle(f\"{OUT_path}/{OUT_file}_labeled.pkl\") # df.to_excel(f\"{OUT_path}/{OUT_file}_labeled.xlsx\")\n",
    "print(\"If you use this notebook's code, please give credit to the author by citing the paper:\\n\\nDaniel M. Ringel, Creating Synthetic Experts with Generative Artificial Intelligence (July 15, 2023). Available at SSRN: https://papers.ssrn.com/abstract_id=4542949\")"
   ]
  }
 ],
 "metadata": {
  "kernelspec": {
   "display_name": "Python 3 (ipykernel)",
   "language": "python",
   "name": "python3"
  },
  "language_info": {
   "codemirror_mode": {
    "name": "ipython",
    "version": 3
   },
   "file_extension": ".py",
   "mimetype": "text/x-python",
   "name": "python",
   "nbconvert_exporter": "python",
   "pygments_lexer": "ipython3",
   "version": "3.8.16"
  }
 },
 "nbformat": 4,
 "nbformat_minor": 5
}
